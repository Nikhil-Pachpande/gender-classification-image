{
 "cells": [
  {
   "cell_type": "code",
   "execution_count": 27,
   "metadata": {},
   "outputs": [],
   "source": [
    "# Importing the libraries\n",
    "import os\n",
    "from tensorflow.keras import layers\n",
    "from tensorflow.keras import Model\n",
    "from keras.preprocessing.image import ImageDataGenerator\n",
    "import numpy as np\n",
    "from keras.preprocessing import image\n",
    "from tensorflow.keras.optimizers import Adam\n",
    "import tensorflow as tf\n",
    "import matplotlib.pyplot as plt"
   ]
  },
  {
   "cell_type": "code",
   "execution_count": 15,
   "metadata": {},
   "outputs": [
    {
     "name": "stdout",
     "output_type": "stream",
     "text": [
      "Found 160000 images belonging to 2 classes.\n",
      "Found 22598 images belonging to 2 classes.\n"
     ]
    }
   ],
   "source": [
    "# Splitting the datasets and Normalization\n",
    "train_data = ImageDataGenerator(rescale = 1./255, rotation_range=40, width_shift_range=0.2, height_shift_range=0.2, shear_range=0.2, zoom_range=0.2, horizontal_flip=True, fill_mode='nearest')\n",
    "test_data = ImageDataGenerator(rescale=1.0/255)\n",
    "\n",
    "train_gen = train_data.flow_from_directory(\"Dataset/Train/\",\n",
    "                                                    batch_size =256 ,\n",
    "                                                    class_mode = 'binary', \n",
    "                                                    target_size = (64, 64))\n",
    "\n",
    "validation_gen = test_data.flow_from_directory(\"Dataset/Validation/\",\n",
    "                                                          batch_size  = 256,\n",
    "                                                          class_mode  = 'binary', \n",
    "                                                          target_size = (64, 64))"
   ]
  },
  {
   "cell_type": "code",
   "execution_count": 17,
   "metadata": {},
   "outputs": [
    {
     "name": "stdout",
     "output_type": "stream",
     "text": [
      "Epoch 1/12\n",
      "256/256 [==============================] - 2436s 10s/step - loss: 0.8997 - acc: 0.5776 - val_loss: 0.6615 - val_acc: 0.6116\n",
      "Epoch 2/12\n",
      "256/256 [==============================] - 2404s 9s/step - loss: 0.5539 - acc: 0.7185 - val_loss: 0.4553 - val_acc: 0.7856\n",
      "Epoch 3/12\n",
      "256/256 [==============================] - 2477s 10s/step - loss: 0.4845 - acc: 0.7712 - val_loss: 0.3989 - val_acc: 0.8147\n",
      "Epoch 4/12\n",
      "256/256 [==============================] - 2897s 11s/step - loss: 0.4470 - acc: 0.7912 - val_loss: 0.4381 - val_acc: 0.7764\n",
      "Epoch 5/12\n",
      "256/256 [==============================] - 2648s 10s/step - loss: 0.4123 - acc: 0.8137 - val_loss: 0.4516 - val_acc: 0.8096\n",
      "Epoch 6/12\n",
      "256/256 [==============================] - 2499s 10s/step - loss: 0.3796 - acc: 0.8335 - val_loss: 0.6771 - val_acc: 0.6646\n",
      "Epoch 7/12\n",
      "256/256 [==============================] - 2182s 9s/step - loss: 0.3444 - acc: 0.8488 - val_loss: 0.2677 - val_acc: 0.8850\n",
      "Epoch 8/12\n",
      "256/256 [==============================] - 2148s 8s/step - loss: 0.3161 - acc: 0.8647 - val_loss: 0.2649 - val_acc: 0.8871\n",
      "Epoch 9/12\n",
      "256/256 [==============================] - 2164s 8s/step - loss: 0.2974 - acc: 0.8746 - val_loss: 0.2529 - val_acc: 0.8985\n",
      "Epoch 10/12\n",
      "256/256 [==============================] - 2172s 8s/step - loss: 0.2887 - acc: 0.8754 - val_loss: 0.2843 - val_acc: 0.8788\n",
      "Epoch 11/12\n",
      "256/256 [==============================] - 2102s 8s/step - loss: 0.2689 - acc: 0.8861 - val_loss: 0.3591 - val_acc: 0.8443\n",
      "Epoch 12/12\n",
      "256/256 [==============================] - 2159s 8s/step - loss: 0.2680 - acc: 0.8878 - val_loss: 0.2464 - val_acc: 0.8916\n"
     ]
    }
   ],
   "source": [
    "# Creating the Model\n",
    "model = tf.keras.models.Sequential([\n",
    "    # 1st conv\n",
    "  tf.keras.layers.Conv2D(96, (11,11),strides=(4,4), activation='relu', input_shape=(64, 64, 3)),\n",
    "  tf.keras.layers.BatchNormalization(),\n",
    "  tf.keras.layers.MaxPooling2D(2, strides=(2,2)),\n",
    "    # 2nd conv\n",
    "  tf.keras.layers.Conv2D(256, (11,11),strides=(1,1), activation='relu',padding=\"same\"),\n",
    "  tf.keras.layers.BatchNormalization(),\n",
    "     # 3rd conv\n",
    "  tf.keras.layers.Conv2D(384, (3,3),strides=(1,1), activation='relu',padding=\"same\"),\n",
    "  tf.keras.layers.BatchNormalization(),\n",
    "    # 4th conv\n",
    "  tf.keras.layers.Conv2D(384, (3,3),strides=(1,1), activation='relu',padding=\"same\"),\n",
    "  tf.keras.layers.BatchNormalization(),\n",
    "    # 5th Conv\n",
    "  tf.keras.layers.Conv2D(256, (3, 3), strides=(1, 1), activation='relu',padding=\"same\"),\n",
    "  tf.keras.layers.BatchNormalization(),\n",
    "  tf.keras.layers.MaxPooling2D(2, strides=(2, 2)),\n",
    "  # To Flatten layer\n",
    "  tf.keras.layers.Flatten(),\n",
    "  # To FC layer 1\n",
    "  tf.keras.layers.Dense(4096, activation='relu'),\n",
    "  tf.keras.layers.Dropout(0.5),\n",
    "  #To FC layer 2\n",
    "  tf.keras.layers.Dense(4096, activation='relu'),\n",
    "  tf.keras.layers.Dropout(0.5),\n",
    "  tf.keras.layers.Dense(1, activation='sigmoid')\n",
    "  ])\n",
    "model.compile(\n",
    "    optimizer=Adam(lr=0.001),\n",
    "    loss='binary_crossentropy',\n",
    "    metrics=['accuracy']\n",
    ")\n",
    "hist = model.fit_generator(generator=train_gen,\n",
    "                           validation_data=validation_gen,\n",
    "                           steps_per_epoch=256,\n",
    "                           validation_steps=256,\n",
    "                           epochs=12)"
   ]
  },
  {
   "cell_type": "code",
   "execution_count": 20,
   "metadata": {},
   "outputs": [],
   "source": [
    "model.save('gender-classification-cnn-epochs-12.h5')"
   ]
  },
  {
   "cell_type": "code",
   "execution_count": 22,
   "metadata": {},
   "outputs": [
    {
     "name": "stdout",
     "output_type": "stream",
     "text": [
      "Model: \"sequential_5\"\n",
      "_________________________________________________________________\n",
      "Layer (type)                 Output Shape              Param #   \n",
      "=================================================================\n",
      "conv2d_25 (Conv2D)           (None, 14, 14, 96)        34944     \n",
      "_________________________________________________________________\n",
      "batch_normalization_25 (Batc (None, 14, 14, 96)        384       \n",
      "_________________________________________________________________\n",
      "max_pooling2d_10 (MaxPooling (None, 7, 7, 96)          0         \n",
      "_________________________________________________________________\n",
      "conv2d_26 (Conv2D)           (None, 7, 7, 256)         2973952   \n",
      "_________________________________________________________________\n",
      "batch_normalization_26 (Batc (None, 7, 7, 256)         1024      \n",
      "_________________________________________________________________\n",
      "conv2d_27 (Conv2D)           (None, 7, 7, 384)         885120    \n",
      "_________________________________________________________________\n",
      "batch_normalization_27 (Batc (None, 7, 7, 384)         1536      \n",
      "_________________________________________________________________\n",
      "conv2d_28 (Conv2D)           (None, 7, 7, 384)         1327488   \n",
      "_________________________________________________________________\n",
      "batch_normalization_28 (Batc (None, 7, 7, 384)         1536      \n",
      "_________________________________________________________________\n",
      "conv2d_29 (Conv2D)           (None, 7, 7, 256)         884992    \n",
      "_________________________________________________________________\n",
      "batch_normalization_29 (Batc (None, 7, 7, 256)         1024      \n",
      "_________________________________________________________________\n",
      "max_pooling2d_11 (MaxPooling (None, 3, 3, 256)         0         \n",
      "_________________________________________________________________\n",
      "flatten_5 (Flatten)          (None, 2304)              0         \n",
      "_________________________________________________________________\n",
      "dense_15 (Dense)             (None, 4096)              9441280   \n",
      "_________________________________________________________________\n",
      "dropout_10 (Dropout)         (None, 4096)              0         \n",
      "_________________________________________________________________\n",
      "dense_16 (Dense)             (None, 4096)              16781312  \n",
      "_________________________________________________________________\n",
      "dropout_11 (Dropout)         (None, 4096)              0         \n",
      "_________________________________________________________________\n",
      "dense_17 (Dense)             (None, 1)                 4097      \n",
      "=================================================================\n",
      "Total params: 32,338,689\n",
      "Trainable params: 32,335,937\n",
      "Non-trainable params: 2,752\n",
      "_________________________________________________________________\n"
     ]
    }
   ],
   "source": [
    "model.summary()"
   ]
  },
  {
   "cell_type": "code",
   "execution_count": 26,
   "metadata": {},
   "outputs": [
    {
     "data": {
      "image/png": "[encoded data removed]",
      "text/plain": [
       "<Figure size 432x288 with 1 Axes>"
      ]
     },
     "metadata": {
      "needs_background": "light"
     },
     "output_type": "display_data"
    },
    {
     "data": {
      "text/plain": [
       "<Figure size 432x288 with 0 Axes>"
      ]
     },
     "metadata": {},
     "output_type": "display_data"
    }
   ],
   "source": [
    "# Plotting the accuracy of the Model (Training v Validation)\n",
    "acc = hist.history['acc']\n",
    "val_acc = hist.history['val_acc']\n",
    "loss = hist.history['loss']\n",
    "val_loss = hist.history['val_loss']\n",
    "\n",
    "epochs = range(len(acc))\n",
    "\n",
    "plt.plot(epochs, acc, 'r', label='Training accuracy')\n",
    "plt.plot(epochs, val_acc, 'b', label='Validation accuracy')\n",
    "plt.title('Training and validation accuracy')\n",
    "plt.legend(loc=0)\n",
    "plt.figure()\n",
    "plt.show()"
   ]
  },
  {
   "cell_type": "code",
   "execution_count": 41,
   "metadata": {},
   "outputs": [
    {
     "name": "stdout",
     "output_type": "stream",
     "text": [
      "[0.]\n",
      "The person in the image is female.\n"
     ]
    },
    {
     "data": {
      "text/plain": [
       "<matplotlib.image.AxesImage at 0x2a170e46e80>"
      ]
     },
     "execution_count": 41,
     "metadata": {},
     "output_type": "execute_result"
    },
    {
     "data": {
      "image/png": "[encoded data removed]",
      "text/plain": [
       "<Figure size 432x288 with 1 Axes>"
      ]
     },
     "metadata": {
      "needs_background": "light"
     },
     "output_type": "display_data"
    }
   ],
   "source": [
    "# predicting the images and testing the model for both male and female image samples\n",
    "path = \"Dataset/Test/Female/160091.jpg\"\n",
    "# path = \"Dataset/Test/Male/160472.jpg\"\n",
    "img = image.load_img(path, target_size=(64, 64))\n",
    "x = image.img_to_array(img)\n",
    "x = np.expand_dims(x, axis=0)\n",
    "images = np.vstack([x])\n",
    "classes = model.predict(images, batch_size=1)\n",
    "print(classes[0])\n",
    "if classes[0]>0.5:\n",
    "    print(\"The person in the image is male.\")\n",
    "else:\n",
    "    print( \"The person in the image is female.\")\n",
    "plt.imshow(img)"
   ]
  },
  {
   "cell_type": "code",
   "execution_count": null,
   "metadata": {},
   "outputs": [],
   "source": []
  }
 ],
 "metadata": {
  "kernelspec": {
   "display_name": "Python 3",
   "language": "python",
   "name": "python3"
  },
  "language_info": {
   "codemirror_mode": {
    "name": "ipython",
    "version": 3
   },
   "file_extension": ".py",
   "mimetype": "text/x-python",
   "name": "python",
   "nbconvert_exporter": "python",
   "pygments_lexer": "ipython3",
   "version": "3.7.3"
  }
 },
 "nbformat": 4,
 "nbformat_minor": 2
}
